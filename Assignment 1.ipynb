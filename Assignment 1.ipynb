{
 "cells": [
  {
   "cell_type": "markdown",
   "metadata": {},
   "source": [
    "## 1. What are the differences between operators and values in the following?\n",
    "## *\n",
    "## \"hello\"\n",
    "## -87.8\n",
    "## -\n",
    "## /\n",
    "## +\n",
    "## 6"
   ]
  },
  {
   "cell_type": "markdown",
   "metadata": {},
   "source": [
    "Operator are special symbols in python that carry arithmatic or logical computation \n",
    "\n",
    "the values that the operator operates on is called operand\n",
    "\n",
    "Values is value of variable \n",
    "\n",
    "eg a=23\n",
    "\n",
    "23 is the value of a \n",
    "\n",
    "in given operators are *, -, /, +\n",
    " \n",
    "and vlues are \"hello\", -87.8, 6 "
   ]
  },
  {
   "cell_type": "markdown",
   "metadata": {},
   "source": [
    "# Q2 What is the difference between string and variable?\n",
    "#   spam\n",
    "  # 'spam' "
   ]
  },
  {
   "cell_type": "markdown",
   "metadata": {},
   "source": [
    "A string is a type of information you can store in variable\n",
    "A variable is use for storing a diffrent type of information\n",
    "\n",
    "A string is usually words enclose within a double quote \"\"\n",
    "eg. x=\"welcome to ineuron\"\n",
    "in given x is a variable and \"welcome to ineuron\" is string \n",
    "and this = symbol is use for assignment "
   ]
  },
  {
   "cell_type": "markdown",
   "metadata": {},
   "source": [
    "# Q3. Describe three different data forms."
   ]
  },
  {
   "cell_type": "markdown",
   "metadata": {},
   "source": [
    "three diffrent data forms are Integer, Floating Point Number, Strings\n",
    "\n",
    "Integer values data type is int() Integer takes 24 bytes for storing an value \n",
    "\n",
    "Floating Point number values data type is float() Floating point number takes 8 bytes for storing an value \n",
    "\n",
    "String values data type is str() String takes 49 bytes for storing an value "
   ]
  },
  {
   "cell_type": "markdown",
   "metadata": {},
   "source": [
    "## Q4. What makes up an expression? What are the functions of all expressions?"
   ]
  },
  {
   "cell_type": "markdown",
   "metadata": {},
   "source": [
    "An Expression is a combination of values and operators \n",
    "\n",
    "All Expression evaluate in a Single Value"
   ]
  },
  {
   "cell_type": "markdown",
   "metadata": {},
   "source": [
    "## Q5. In this chapter, assignment statements such as spam = 10 were added. What&#39;s the\n",
    " ## difference between a declaration and an expression?"
   ]
  },
  {
   "cell_type": "markdown",
   "metadata": {},
   "source": [
    "declaration it means binding a variable to the data type \n",
    "\n",
    "Declaration of variable is not required in python \n",
    "\n",
    "expression evaluates to a single value \n",
    " "
   ]
  },
  {
   "cell_type": "markdown",
   "metadata": {},
   "source": [
    "# Q6 After running the following code, what does the variable bacon contain?\n",
    "# bacon = 22\n",
    "# bacon + 1"
   ]
  },
  {
   "cell_type": "markdown",
   "metadata": {},
   "source": [
    "bacon value contain 22 but after bacon+1 expression does not reassign value to bacon\n",
    "for reassigning we should do bacon= bacon+1"
   ]
  },
  {
   "cell_type": "markdown",
   "metadata": {},
   "source": [
    "# Q7 What should the values of the following two terms be?\n"
   ]
  },
  {
   "cell_type": "markdown",
   "metadata": {},
   "source": [
    "\"spam\"+ \"spamspam\"\n",
    "\n",
    "value of 1st code 'spamspamspam'\n",
    "\n",
    "\"spam\" * 3\n",
    "\n",
    "value of 2nd code 'spamspamspam'"
   ]
  },
  {
   "cell_type": "markdown",
   "metadata": {},
   "source": [
    "# Q8. Why is it that eggs is a true variable name but 100 is not?"
   ]
  },
  {
   "cell_type": "markdown",
   "metadata": {},
   "source": [
    "The variable name cannot start with number "
   ]
  },
  {
   "cell_type": "markdown",
   "metadata": {},
   "source": [
    "#  Q9 Which of the following three functions may be used to convert a value to an integer, a floating-point number, or a string?"
   ]
  },
  {
   "cell_type": "markdown",
   "metadata": {},
   "source": [
    "int() this function is used for converting into an integer value\n",
    "\n",
    "float() this function is used for converting into floating-point number value\n",
    "\n",
    "str() this function is used for converting into string value "
   ]
  },
  {
   "cell_type": "markdown",
   "metadata": {},
   "source": [
    "# 10. What is the error caused by this expression? What would you do about it?\"I have eaten \" + 99 + \" burritos.\""
   ]
  },
  {
   "cell_type": "markdown",
   "metadata": {},
   "source": [
    " 'TypeError' is the error caused by this expression \n",
    "  \n",
    "  Because of 99 is an integer, and only strings can be concatnated to other string with the + operator \n",
    "\n",
    "  an the correct way to written is \"i have eaten\" + str(99)+ \"burritos\""
   ]
  },
  {
   "cell_type": "code",
   "execution_count": null,
   "metadata": {},
   "outputs": [],
   "source": []
  }
 ],
 "metadata": {
  "kernelspec": {
   "display_name": "Python 3",
   "language": "python",
   "name": "python3"
  },
  "language_info": {
   "codemirror_mode": {
    "name": "ipython",
    "version": 3
   },
   "file_extension": ".py",
   "mimetype": "text/x-python",
   "name": "python",
   "nbconvert_exporter": "python",
   "pygments_lexer": "ipython3",
   "version": "3.8.3"
  }
 },
 "nbformat": 4,
 "nbformat_minor": 4
}
